{
 "cells": [
  {
   "cell_type": "code",
   "execution_count": 1,
   "metadata": {
    "collapsed": false,
    "pycharm": {
     "name": "#%%\n"
    }
   },
   "outputs": [],
   "source": [
    "import time\n",
    "import torch\n",
    "from torch.utils.data import TensorDataset, DataLoader\n",
    "\n",
    "\n",
    "import numpy as np\n",
    "import sys\n",
    "sys.path.append(\"../..\") \n",
    "import kinematics.allegro_hand as allegro\n",
    "\n",
    "%load_ext autoreload\n",
    "%autoreload 2"
   ]
  },
  {
   "cell_type": "code",
   "execution_count": null,
   "metadata": {
    "collapsed": false,
    "pycharm": {
     "name": "#%%\n"
    }
   },
   "outputs": [],
   "source": []
  },
  {
   "cell_type": "code",
   "execution_count": 2,
   "metadata": {
    "collapsed": false,
    "pycharm": {
     "name": "#%%\n"
    }
   },
   "outputs": [],
   "source": [
    "from nn_model import Net\n",
    "model = Net(48, 10)\n"
   ]
  },
  {
   "cell_type": "code",
   "execution_count": 3,
   "metadata": {
    "collapsed": false,
    "pycharm": {
     "name": "#%%\n"
    }
   },
   "outputs": [
    {
     "data": {
      "text/plain": [
       "<All keys matched successfully>"
      ]
     },
     "execution_count": 3,
     "metadata": {},
     "output_type": "execute_result"
    }
   ],
   "source": [
    "\n",
    "\n",
    "filepath = 'models/linear4_error2.7'\n",
    "\n",
    "\n",
    "model.load_state_dict(torch.load(filepath))"
   ]
  },
  {
   "cell_type": "code",
   "execution_count": 4,
   "metadata": {
    "collapsed": false,
    "pycharm": {
     "name": "#%%\n"
    }
   },
   "outputs": [
    {
     "data": {
      "text/plain": [
       "Net(\n",
       "  (l1): Linear(in_features=48, out_features=250, bias=True)\n",
       "  (l2): Linear(in_features=250, out_features=130, bias=True)\n",
       "  (l3): Linear(in_features=130, out_features=50, bias=True)\n",
       "  (l4): Linear(in_features=50, out_features=10, bias=True)\n",
       "  (act_relu): ReLU()\n",
       ")"
      ]
     },
     "execution_count": 4,
     "metadata": {},
     "output_type": "execute_result"
    }
   ],
   "source": [
    "model.eval()\n"
   ]
  },
  {
   "cell_type": "code",
   "execution_count": null,
   "metadata": {
    "collapsed": false,
    "pycharm": {
     "name": "#%%\n"
    }
   },
   "outputs": [],
   "source": []
  },
  {
   "cell_type": "code",
   "execution_count": 5,
   "metadata": {
    "collapsed": false,
    "pycharm": {
     "name": "#%%\n"
    }
   },
   "outputs": [
    {
     "name": "stdout",
     "output_type": "stream",
     "text": [
      "data2 shape: (1000000, 34)\n",
      "[0, 1, 2, 3, 4, 5, 6, 7, 8, 9, 10, 11, 12, 13, 14, 15, 19, 20, 21, 22, 24, 25, 26, 28, 29, 31]\n",
      "data1 shape: (1000000, 26)\n"
     ]
    }
   ],
   "source": [
    "# load data\n",
    "path = '../dataset/'\n",
    "dataset_name = 'dataset'  \n",
    "nums = 10000000\n",
    "suffix = '_15dis_sphere_2'\n",
    "# dataset_name = 'test100000.txt'  # 59min 100k nums\n",
    "# data2 = np.loadtxt(path+dataset_name, delimiter=' ')  # \n",
    "data2 = np.load(path + dataset_name + str(nums) + suffix + '.npy')   #  # 16 joints, 3 obj pose, 15 min_dis\n",
    "nums = int(data2.shape[0] * 0.9)\n",
    "k = 4\n",
    "# data2 = data2[nums*k:nums*(k+1),:]\n",
    "data2 = data2[nums:,:]\n",
    "print('data2 shape:', data2.shape)\n",
    "\n",
    "\n",
    "dis_with_obj = list(np.array([5,9,12,14,15]) + 18)\n",
    "dis_with_obj +=[16,17,18]\n",
    "# dis_with_obj\n",
    "dis_only_hand = []\n",
    "for i in range(34):\n",
    "    if i not in dis_with_obj:\n",
    "        dis_only_hand.append(i)\n",
    "print(dis_only_hand)\n",
    "data1 = data2[:, dis_only_hand] # 16 joints, 10 min_dis\n",
    "print('data1 shape:', data1.shape)\n"
   ]
  },
  {
   "cell_type": "code",
   "execution_count": 6,
   "metadata": {
    "collapsed": false,
    "pycharm": {
     "name": "#%%\n"
    }
   },
   "outputs": [
    {
     "name": "stdout",
     "output_type": "stream",
     "text": [
      "[1, 1, 1, 1]\n",
      "finger number= 4   joint list: [['joint_0', 'joint_1', 'joint_2', 'joint_3'], ['joint_4', 'joint_5', 'joint_6', 'joint_7'], ['joint_8', 'joint_9', 'joint_10', 'joint_11'], ['joint_12', 'joint_13', 'joint_14', 'joint_15']]\n"
     ]
    }
   ],
   "source": [
    "hand = allegro.Robot(use_fingers=[1,1,1,1], path_prefix='../../', all_link_fk=True, meshes=True)\n",
    "lb = hand.joint_lb\n",
    "ub = hand.joint_ub\n",
    "\n",
    "del hand\n"
   ]
  },
  {
   "cell_type": "code",
   "execution_count": 7,
   "metadata": {
    "collapsed": false,
    "pycharm": {
     "name": "#%%\n"
    }
   },
   "outputs": [
    {
     "data": {
      "text/plain": [
       "array([-0.59471317, -0.29691277, -0.27401187, -0.32753606, -0.59471317,\n",
       "       -0.29691277, -0.27401187, -0.32753606, -0.59471317, -0.29691277,\n",
       "       -0.27401187, -0.32753606,  0.3635739 , -0.2050429 , -0.28972295,\n",
       "       -0.26220637])"
      ]
     },
     "execution_count": 7,
     "metadata": {},
     "output_type": "execute_result"
    }
   ],
   "source": [
    "lb"
   ]
  },
  {
   "cell_type": "code",
   "execution_count": 8,
   "metadata": {
    "collapsed": false,
    "pycharm": {
     "name": "#%%\n"
    }
   },
   "outputs": [
    {
     "name": "stdout",
     "output_type": "stream",
     "text": [
      "48 10\n"
     ]
    }
   ],
   "source": [
    "# normalize data to [-1,1]\n",
    "\n",
    "data = np.copy(data1)\n",
    "for i in range(16):  # joint angles\n",
    "    data[:,i] = (data1[:,i] - lb[i] )/ (ub[i] - lb[i]) *2 -1\n",
    "\n",
    "# max_dis = np.max(data1[:, 16:] )\n",
    "# for i in range(16,26):  # 10 dis\n",
    "#     data[:,i] = data[:,i] /max_dis\n",
    "\n",
    "\n",
    "add_sin_cos = True\n",
    "keep_all_dis = True\n",
    "\n",
    "num = int(data.shape[0] * 0.8)\n",
    "batch_size = 128 * 64 *4\n",
    "\n",
    "\n",
    "if add_sin_cos:\n",
    "    num_s = 16 * 3\n",
    "    if keep_all_dis:\n",
    "        data = np.concatenate([data[:,:16], np.sin(data[:,:16]), np.cos(data[:,:16]), data[:,16:]], axis=1)\n",
    "    else:\n",
    "        min_dis = np.min(data1[:, 16:], axis=1 ).reshape(-1, 1)\n",
    "        data = np.concatenate([data[:,:16], np.sin(data[:,:16]), np.cos(data[:,:16]), min_dis], axis=1)\n",
    "else:\n",
    "    num_s = 16\n",
    "    if keep_all_dis is False:\n",
    "        min_dis = np.min(data1[:, 16:], axis=1 ).reshape(-1, 1)\n",
    "        data = np.concatenate([data[:,:16], min_dis], axis=1)\n",
    "\n",
    "\n",
    "x_train = torch.Tensor(data[:num, :num_s])\n",
    "y_train = torch.Tensor(data[:num, num_s:])\n",
    "dim_in = x_train.size(1)\n",
    "dim_out = y_train.size(1)\n",
    "# dataset_train = TensorDataset(x_train,y_train) # create your datset\n",
    "# loader_train = DataLoader(dataset_train,batch_size=batch_size, num_workers=12)\n",
    "x_test = torch.Tensor(data[num:, :num_s])\n",
    "y_test = torch.Tensor(data[num:, num_s:])\n",
    "\n",
    "print(dim_in, dim_out)"
   ]
  },
  {
   "cell_type": "code",
   "execution_count": 9,
   "metadata": {
    "collapsed": false,
    "pycharm": {
     "name": "#%%\n"
    }
   },
   "outputs": [
    {
     "data": {
      "text/plain": [
       "array([0.65893986, 0.60410471, 0.63579101, 0.95336026, 0.52659965,\n",
       "       1.25102377, 0.87506007, 0.85886652, 1.11932333, 1.18477319])"
      ]
     },
     "execution_count": 9,
     "metadata": {},
     "output_type": "execute_result"
    }
   ],
   "source": [
    "# verification\n",
    "device = torch.device(\"cuda:0\" if torch.cuda.is_available() else \"cpu\")\n",
    "\n",
    "x_test_1 = x_test.to(device)\n",
    "y_test_1 = y_test.to(device)\n",
    "model.to(device)\n",
    "\n",
    "with torch.no_grad():\n",
    "    outputs = model(x_test_1)\n",
    "\n",
    "outputs = outputs.cpu().numpy()\n",
    "\n",
    "error = (data[num:, num_s:] - outputs) \n",
    "np.sqrt(np.mean(error*error, axis=0))  \n",
    "\n",
    "\n"
   ]
  },
  {
   "cell_type": "code",
   "execution_count": null,
   "metadata": {
    "collapsed": false,
    "pycharm": {
     "name": "#%%\n"
    }
   },
   "outputs": [],
   "source": []
  },
  {
   "cell_type": "code",
   "execution_count": 10,
   "metadata": {
    "collapsed": false,
    "pycharm": {
     "name": "#%%\n"
    }
   },
   "outputs": [
    {
     "name": "stdout",
     "output_type": "stream",
     "text": [
      "Test, accuracy for 10 dis 0.9933529999999999\n",
      "Test, accuracy for min dis 0.96593\n"
     ]
    }
   ],
   "source": [
    "# accuracy of collision avoidance\n",
    "\n",
    "## in testing set, for 10 distances\n",
    "dis_bool = data[num:, num_s:] <= 0\n",
    "dis_bool_p = outputs <=0\n",
    "c = np.equal(dis_bool, dis_bool_p)\n",
    "print('Test, accuracy for 10 dis',np.sum(c)/ c.shape[0] /c.shape[1] )\n",
    "\n",
    "\n",
    "# only compare the minimal distance\n",
    "dis_bool = np.min(data[num:, num_s:], axis=1) <= 0\n",
    "dis_bool_p = np.min(outputs, axis=1)  <= 0\n",
    "c = np.equal(dis_bool, dis_bool_p)\n",
    "print('Test, accuracy for min dis',np.sum(c)/ len(c) )\n",
    "\n"
   ]
  },
  {
   "cell_type": "code",
   "execution_count": null,
   "metadata": {},
   "outputs": [],
   "source": []
  },
  {
   "cell_type": "code",
   "execution_count": 11,
   "metadata": {
    "collapsed": false,
    "pycharm": {
     "name": "#%%\n"
    }
   },
   "outputs": [],
   "source": [
    "q0 = np.ones(16)\n",
    "q0[12] = 0.5\n",
    "if len(q0.shape) == 1:\n",
    "    q = q0.reshape(1, -1)\n",
    "q_all = np.concatenate([q, np.sin(q), np.cos(q)], axis=1)\n",
    "# transfer q to [-1,1]\n",
    "\n",
    "for i in range(16):  # joint angles\n",
    "    q_all[:, i] = (q_all[:, i] - lb[i]) / (ub[i] - lb[i]) * 2 - 1\n",
    "\n",
    "q_all = torch.Tensor(q_all.reshape(1,-1))\n",
    "q_all = q_all.to(device)\n",
    "with torch.no_grad():\n",
    "    outputs = model(q_all)\n",
    "\n",
    "\n",
    "\n",
    "outputs = outputs.cpu().numpy()"
   ]
  },
  {
   "cell_type": "code",
   "execution_count": 12,
   "metadata": {
    "collapsed": false,
    "pycharm": {
     "name": "#%%\n"
    }
   },
   "outputs": [
    {
     "data": {
      "text/plain": [
       "array([[0.31125247, 0.25174358, 0.24208462, 0.9791069 , 0.56241095,\n",
       "        0.9716926 , 0.43945563, 0.7842885 , 0.21170121, 0.50430954]],\n",
       "      dtype=float32)"
      ]
     },
     "execution_count": 12,
     "metadata": {},
     "output_type": "execute_result"
    }
   ],
   "source": [
    "outputs\n",
    "\n",
    "\n"
   ]
  },
  {
   "cell_type": "code",
   "execution_count": null,
   "metadata": {},
   "outputs": [],
   "source": []
  }
 ],
 "metadata": {
  "interpreter": {
   "hash": "a09e9255d0a6845c5a7cead237f5e158458708f4ef5283729ba0c2bf01b62a76"
  },
  "kernelspec": {
   "display_name": "Python 3.7.13 ('mujoco_sim')",
   "language": "python",
   "name": "python3"
  },
  "language_info": {
   "codemirror_mode": {
    "name": "ipython",
    "version": 3
   },
   "file_extension": ".py",
   "mimetype": "text/x-python",
   "name": "python",
   "nbconvert_exporter": "python",
   "pygments_lexer": "ipython3",
   "version": "3.7.13"
  },
  "orig_nbformat": 4
 },
 "nbformat": 4,
 "nbformat_minor": 2
}
