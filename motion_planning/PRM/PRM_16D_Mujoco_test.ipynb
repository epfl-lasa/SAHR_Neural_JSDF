{
 "cells": [
  {
   "cell_type": "code",
   "execution_count": null,
   "metadata": {
    "collapsed": false,
    "pycharm": {
     "name": "#%%\n"
    }
   },
   "outputs": [],
   "source": [
    "import time\n",
    "\n",
    "from mujoco_py import load_model_from_xml, MjSim, MjViewer, load_model_from_path\n",
    "import mujoco_py\n",
    "import numpy as np\n",
    "import matplotlib.pyplot as plt\n",
    "import os\n",
    "import sys\n",
    "sys.path.append('../../')\n",
    "# import controllers_utils\n",
    "import tools.rotations as rot\n",
    "import torch\n",
    "import time\n",
    "from D_star_lite import DStar\n",
    "\n",
    "from KNN_test import FaissKNeighbors\n",
    "\n",
    "from PRM_tools import collision_check, graph"
   ]
  },
  {
   "cell_type": "code",
   "execution_count": null,
   "metadata": {
    "collapsed": false,
    "pycharm": {
     "name": "#%%\n"
    }
   },
   "outputs": [],
   "source": [
    "q0 = np.zeros(16)\n",
    "q0[12] = 0.5\n",
    "s_start =  tuple(q0)\n",
    "s_goal = (-0.19693, 1.3903904, 1.3273159, 0.35897200000000007,\n",
    "          -0.06984199999999996, 1.3148996000000002, 1.27591, 0.43,\n",
    "          0.0, 1.3293476000000002, 1.2510544000000001, 0.55,\n",
    "          1.1357499,   0.9659528, 1.5200892, 0.6767379)  # goal location\n",
    "\n",
    "# generate samples\n",
    "dim = 16\n",
    "n = 1000\n",
    "edge_sample_num = 20\n",
    "k0 = int(np.ceil(np.e * (1 + 1 / dim))) + 2 +5\n",
    "\n",
    "g = [0, 1, 2, 3, 4]  # palm, index/middle/ring/thumb finger\n",
    "use_cuda = True\n",
    "\n",
    "x_obj = np.array([[8.10000000e-02, 0, 1.87000000e-01]])\n",
    "\n",
    "hand = collision_check(x_obj, use_cuda=use_cuda)"
   ]
  },
  {
   "cell_type": "code",
   "execution_count": null,
   "metadata": {
    "collapsed": false,
    "pycharm": {
     "name": "#%%\n"
    }
   },
   "outputs": [],
   "source": [
    "x_obj = np.array([[0.08, 0, 0.187], [0.08, -0.06, 0.187], [0.08, 0.06, 0.187], [0.11, 0.03, 0.087]])\n",
    "# x_obj = np.array([[800.10000000e-02, 0, 100.87000000e-01]])  # old"
   ]
  },
  {
   "cell_type": "code",
   "execution_count": null,
   "metadata": {
    "collapsed": false,
    "pycharm": {
     "name": "#%%\n"
    }
   },
   "outputs": [],
   "source": [
    "k0"
   ]
  },
  {
   "cell_type": "code",
   "execution_count": null,
   "metadata": {
    "collapsed": false,
    "pycharm": {
     "name": "#%%\n"
    }
   },
   "outputs": [],
   "source": [
    "x_obj_gpu = torch.Tensor(x_obj).to('cuda:0') if use_cuda else torch.Tensor(x_obj)\n",
    "hand.x_obj_gpu = x_obj_gpu\n",
    "graph_16D = graph(dim=dim)\n",
    "safety_dis = 0.001\n",
    "\n",
    "# samples\n",
    "samples = np.random.uniform(hand.nn.hand_bound[0, :], hand.nn.hand_bound[1, :], size=(n, dim))  # (n, dim)\n",
    "samples = np.concatenate(\n",
    "    [np.array(s_start).reshape(1, -1), np.array(s_goal).reshape(1, -1), samples])  # (n+2, dim)\n",
    "knn = FaissKNeighbors(k=k0 + 1)  # knn\n",
    "knn.fit(samples)\n",
    "samples_near = knn.predict(samples)[:, 1:, :]  # remove the first one, which is itself\n",
    "s1 = list(map(tuple, samples))\n",
    "s2 = [list(map(tuple, samples_near[i, :, :])) for i in range(samples_near.shape[0])]\n",
    "\n",
    "graph_16D.edges = dict(zip(s1, s2))  # {v1: [a1,a2,a3], v2; [...],...}\n",
    "d_star = DStar(s_start, s_goal, graph_16D, \"euclidean\")\n",
    "start_p = np.repeat(samples, repeats=k0, axis=0)\n",
    "edge_samples_ = np.linspace(start_p, np.vstack(samples_near),\n",
    "                            edge_sample_num, axis=1)  # (n*k, edge_sample_num, dim)\n",
    "edge_samples = np.vstack(edge_samples_)  # (n*k*edge_sample_num, dim)\n",
    "\n",
    "# pairs = hand.get_dis(edge_samples, gradient=False, sample=edge_sample_num, safety_dis=safety_dis/5, real_dis=True)\n",
    "hand.q_gpu = torch.Tensor(edge_samples).to('cuda:0') if use_cuda else torch.Tensor(edge_samples)\n",
    "pairs = hand.collision_hand_obj_SCA(q=None, sample=edge_sample_num, safety_dis=safety_dis)  # do the hand-obj collision and SCA\n",
    "start_end_p = []\n",
    "for i in range(len(s2)):\n",
    "    for j in range(k0):\n",
    "        start_end_p.append(s1[i] + s2[i][j])\n",
    "\n",
    "d_star.graph.E = dict(zip(start_end_p, pairs))  # {v1 + v2 : False/True, ...}\n",
    "\n",
    "result = d_star.ComputePath()\n",
    "if result:\n",
    "    path = d_star.extract_path()\n",
    "    print(len(path))\n",
    "else:\n",
    "    path = []\n",
    "    print(' No feasible path')"
   ]
  },
  {
   "cell_type": "code",
   "execution_count": null,
   "metadata": {
    "collapsed": false,
    "pycharm": {
     "name": "#%%\n"
    }
   },
   "outputs": [],
   "source": [
    "print(path)"
   ]
  },
  {
   "cell_type": "code",
   "execution_count": null,
   "metadata": {
    "collapsed": false,
    "pycharm": {
     "name": "#%%\n"
    }
   },
   "outputs": [],
   "source": [
    "np.sum(pairs) / len(pairs)"
   ]
  },
  {
   "cell_type": "code",
   "execution_count": null,
   "metadata": {
    "collapsed": false,
    "pycharm": {
     "name": "#%%\n"
    }
   },
   "outputs": [],
   "source": [
    "edge_samples_path.shape"
   ]
  },
  {
   "cell_type": "code",
   "execution_count": null,
   "metadata": {
    "collapsed": false,
    "pycharm": {
     "name": "#%%\n"
    }
   },
   "outputs": [],
   "source": [
    "# check if the path is collision-free\n",
    "num_tmp = 200\n",
    "edge_samples_path = np.linspace(np.vstack(path[0:-1]), np.vstack(path[1:]),\n",
    "                                    num_tmp, axis=1)  # (n*k, edge_sample_num, dim)\n",
    "edge_samples_path = np.vstack(edge_samples_path)\n",
    "hand.q_gpu = torch.Tensor(edge_samples_path).to('cuda:0') if use_cuda else torch.Tensor(edge_samples_path)\n",
    "pairs_path = hand.collision_hand_obj_SCA(sample=num_tmp, safety_dis=safety_dis)"
   ]
  },
  {
   "cell_type": "code",
   "execution_count": null,
   "metadata": {
    "collapsed": false,
    "pycharm": {
     "name": "#%%\n"
    }
   },
   "outputs": [],
   "source": [
    "pairs_path"
   ]
  },
  {
   "cell_type": "code",
   "execution_count": null,
   "metadata": {
    "collapsed": false,
    "pycharm": {
     "name": "#%%\n"
    }
   },
   "outputs": [],
   "source": [
    "np.sum(pairs) / len(pairs)"
   ]
  },
  {
   "cell_type": "code",
   "execution_count": null,
   "metadata": {
    "collapsed": false,
    "pycharm": {
     "name": "#%%\n"
    }
   },
   "outputs": [],
   "source": [
    "# check if the path is collision-free\n"
   ]
  },
  {
   "cell_type": "code",
   "execution_count": null,
   "metadata": {
    "collapsed": false,
    "pycharm": {
     "name": "#%%\n"
    }
   },
   "outputs": [],
   "source": [
    "pairs_path"
   ]
  },
  {
   "cell_type": "code",
   "execution_count": null,
   "metadata": {
    "collapsed": false,
    "pycharm": {
     "name": "#%%\n"
    }
   },
   "outputs": [],
   "source": [
    "np.sum(pairs) / len(pairs)"
   ]
  },
  {
   "cell_type": "code",
   "execution_count": null,
   "metadata": {
    "collapsed": false,
    "pycharm": {
     "name": "#%%\n"
    }
   },
   "outputs": [],
   "source": [
    "# check if the path is collision-free\n"
   ]
  },
  {
   "cell_type": "code",
   "execution_count": null,
   "metadata": {
    "collapsed": false,
    "pycharm": {
     "name": "#%%\n"
    }
   },
   "outputs": [],
   "source": []
  },
  {
   "cell_type": "code",
   "execution_count": null,
   "metadata": {
    "collapsed": false,
    "pycharm": {
     "name": "#%%\n"
    }
   },
   "outputs": [],
   "source": [
    "# check if the path is collision-free\n"
   ]
  },
  {
   "cell_type": "code",
   "execution_count": null,
   "metadata": {
    "pycharm": {
     "name": "#%%\n"
    }
   },
   "outputs": [],
   "source": []
  },
  {
   "cell_type": "code",
   "execution_count": null,
   "metadata": {
    "collapsed": false,
    "pycharm": {
     "name": "#%%\n"
    }
   },
   "outputs": [],
   "source": [
    "pairs_path"
   ]
  },
  {
   "cell_type": "code",
   "execution_count": null,
   "metadata": {
    "collapsed": false,
    "pycharm": {
     "name": "#%%\n"
    }
   },
   "outputs": [],
   "source": [
    "np.sum(pairs) / len(pairs)"
   ]
  },
  {
   "cell_type": "code",
   "execution_count": null,
   "metadata": {
    "collapsed": false,
    "pycharm": {
     "name": "#%%\n"
    }
   },
   "outputs": [],
   "source": [
    "# check if the path is collision-free\n"
   ]
  },
  {
   "cell_type": "code",
   "execution_count": null,
   "metadata": {
    "collapsed": false,
    "pycharm": {
     "name": "#%%\n"
    }
   },
   "outputs": [],
   "source": [
    "# check if the path is collision-free\n",
    "num_tmp = 200\n",
    "edge_samples_path = np.linspace(np.vstack(path[0:-1]), np.vstack(path[1:]),\n",
    "                                    num_tmp, axis=1)  # (n*k, edge_sample_num, dim)\n",
    "hand.q_gpu = torch.Tensor(edge_samples_path).to('cuda:0') if use_cuda else torch.Tensor(edge_samples_path)\n",
    "pairs_path = hand.collision_hand_obj_SCA(sample=num_tmp, safety_dis=safety_dis)"
   ]
  },
  {
   "cell_type": "code",
   "execution_count": null,
   "metadata": {
    "collapsed": false,
    "pycharm": {
     "name": "#%%\n"
    }
   },
   "outputs": [],
   "source": [
    "pairs_path"
   ]
  },
  {
   "cell_type": "code",
   "execution_count": null,
   "metadata": {
    "collapsed": false,
    "pycharm": {
     "name": "#%%\n"
    }
   },
   "outputs": [],
   "source": [
    "np.sum(pairs) / len(pairs)"
   ]
  },
  {
   "cell_type": "code",
   "execution_count": null,
   "metadata": {
    "collapsed": false,
    "pycharm": {
     "name": "#%%\n"
    }
   },
   "outputs": [],
   "source": [
    "# check if the path is collision-free\n"
   ]
  },
  {
   "cell_type": "code",
   "execution_count": null,
   "metadata": {
    "collapsed": false,
    "pycharm": {
     "name": "#%%\n"
    }
   },
   "outputs": [],
   "source": [
    "# check if the path is collision-free\n",
    "num_tmp = 200\n",
    "edge_samples_path = np.linspace(np.vstack(path[0:-1]), np.vstack(path[1:]),\n",
    "                                    num_tmp, axis=1)  # (n*k, edge_sample_num, dim)\n",
    "hand.q_gpu = torch.Tensor(edge_samples_path).to('cuda:0') if use_cuda else torch.Tensor(edge_samples_path)\n",
    "pairs_path = hand.collision_hand_obj_SCA(sample=num_tmp, safety_dis=safety_dis)"
   ]
  },
  {
   "cell_type": "code",
   "execution_count": null,
   "metadata": {
    "collapsed": false,
    "pycharm": {
     "name": "#%%\n"
    }
   },
   "outputs": [],
   "source": [
    "pairs_path"
   ]
  },
  {
   "cell_type": "code",
   "execution_count": null,
   "metadata": {
    "collapsed": false,
    "pycharm": {
     "name": "#%%\n"
    }
   },
   "outputs": [],
   "source": [
    "np.sum(pairs) / len(pairs)"
   ]
  },
  {
   "cell_type": "code",
   "execution_count": null,
   "metadata": {
    "collapsed": false,
    "pycharm": {
     "name": "#%%\n"
    }
   },
   "outputs": [],
   "source": [
    "# check if the path is collision-free\n"
   ]
  },
  {
   "cell_type": "code",
   "execution_count": null,
   "metadata": {
    "collapsed": false,
    "pycharm": {
     "name": "#%%\n"
    }
   },
   "outputs": [],
   "source": [
    "# check if the path is collision-free\n",
    "num_tmp = 200\n",
    "edge_samples_path = np.linspace(np.vstack(path[0:-1]), np.vstack(path[1:]),\n",
    "                                    num_tmp, axis=1)  # (n*k, edge_sample_num, dim)\n",
    "hand.q_gpu = torch.Tensor(edge_samples_path).to('cuda:0') if use_cuda else torch.Tensor(edge_samples_path)\n",
    "pairs_path = hand.collision_hand_obj_SCA(sample=num_tmp, safety_dis=safety_dis)"
   ]
  },
  {
   "cell_type": "code",
   "execution_count": null,
   "metadata": {
    "collapsed": false,
    "pycharm": {
     "name": "#%%\n"
    }
   },
   "outputs": [],
   "source": []
  },
  {
   "cell_type": "code",
   "execution_count": null,
   "metadata": {
    "pycharm": {
     "name": "#%%\n"
    }
   },
   "outputs": [],
   "source": [
    "np.sum(pairs) / len(pairs)"
   ]
  },
  {
   "cell_type": "code",
   "execution_count": null,
   "metadata": {
    "pycharm": {
     "name": "#%%\n"
    }
   },
   "outputs": [],
   "source": [
    "# check if the path is collision-free\n"
   ]
  },
  {
   "cell_type": "code",
   "execution_count": null,
   "metadata": {
    "pycharm": {
     "name": "#%%\n"
    }
   },
   "outputs": [],
   "source": []
  }
 ],
 "metadata": {
  "interpreter": {
   "hash": "a09e9255d0a6845c5a7cead237f5e158458708f4ef5283729ba0c2bf01b62a76"
  },
  "kernelspec": {
   "display_name": "Python 3.7.13 ('mujoco_sim')",
   "language": "python",
   "name": "python3"
  },
  "language_info": {
   "codemirror_mode": {
    "name": "ipython",
    "version": 3
   },
   "file_extension": ".py",
   "mimetype": "text/x-python",
   "name": "python",
   "nbconvert_exporter": "python",
   "pygments_lexer": "ipython3",
   "version": "3.7.13"
  }
 },
 "nbformat": 4,
 "nbformat_minor": 0
}