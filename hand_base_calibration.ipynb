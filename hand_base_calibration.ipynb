{
 "cells": [
  {
   "cell_type": "markdown",
   "source": [
    "## Hand base calibration\n",
    "- the transformation of the allegro_base frame with respect to the iiwa_link_ee\n",
    "- keep the iiwa on the Position model and read the ee pose\n",
    "- attach a marker frame on the thumb tip"
   ],
   "metadata": {
    "collapsed": false,
    "pycharm": {
     "name": "#%% md\n"
    }
   }
  },
  {
   "cell_type": "code",
   "execution_count": 1,
   "metadata": {
    "collapsed": true,
    "pycharm": {
     "name": "#%%\n"
    }
   },
   "outputs": [],
   "source": [
    "import time\n",
    "\n",
    "import numpy as np\n",
    "from controller_utils import Robot\n",
    "import rospy\n",
    "import tools.rotations as rot\n",
    "%load_ext autoreload\n",
    "%autoreload 2\n"
   ]
  },
  {
   "cell_type": "code",
   "execution_count": 2,
   "outputs": [
    {
     "name": "stdout",
     "output_type": "stream",
     "text": [
      "Kinematic model has been loaded from kinematics/q2pose_left.txt\n"
     ]
    },
    {
     "name": "stderr",
     "output_type": "stream",
     "text": [
      "Unknown tag \"material\" in /robot[@name='iiwa7']/link[@name='iiwa_link_0']/collision[1]\n",
      "Unknown tag \"self_collision_checking\" in /robot[@name='iiwa7']/link[@name='iiwa_link_0']\n",
      "Unknown tag \"material\" in /robot[@name='iiwa7']/link[@name='iiwa_link_1']/collision[1]\n",
      "Unknown tag \"material\" in /robot[@name='iiwa7']/link[@name='iiwa_link_2']/collision[1]\n",
      "Unknown tag \"material\" in /robot[@name='iiwa7']/link[@name='iiwa_link_3']/collision[1]\n",
      "Unknown tag \"material\" in /robot[@name='iiwa7']/link[@name='iiwa_link_4']/collision[1]\n",
      "Unknown tag \"material\" in /robot[@name='iiwa7']/link[@name='iiwa_link_5']/collision[1]\n",
      "Unknown tag \"material\" in /robot[@name='iiwa7']/link[@name='iiwa_link_6']/collision[1]\n",
      "Unknown tag \"material\" in /robot[@name='iiwa7']/link[@name='iiwa_link_7']/collision[1]\n",
      "Unknown tag \"hardwareInterface\" in /robot[@name='iiwa7']/transmission[@name='iiwa_tran_1']/actuator[@name='iiwa_motor_1']\n",
      "Unknown tag \"robotNamespace\" in /robot[@name='iiwa7']/transmission[@name='iiwa_tran_1']\n",
      "Unknown tag \"hardwareInterface\" in /robot[@name='iiwa7']/transmission[@name='iiwa_tran_2']/actuator[@name='iiwa_motor_2']\n",
      "Unknown tag \"robotNamespace\" in /robot[@name='iiwa7']/transmission[@name='iiwa_tran_2']\n",
      "Unknown tag \"hardwareInterface\" in /robot[@name='iiwa7']/transmission[@name='iiwa_tran_3']/actuator[@name='iiwa_motor_3']\n",
      "Unknown tag \"robotNamespace\" in /robot[@name='iiwa7']/transmission[@name='iiwa_tran_3']\n",
      "Unknown tag \"hardwareInterface\" in /robot[@name='iiwa7']/transmission[@name='iiwa_tran_4']/actuator[@name='iiwa_motor_4']\n",
      "Unknown tag \"robotNamespace\" in /robot[@name='iiwa7']/transmission[@name='iiwa_tran_4']\n",
      "Unknown tag \"hardwareInterface\" in /robot[@name='iiwa7']/transmission[@name='iiwa_tran_5']/actuator[@name='iiwa_motor_5']\n",
      "Unknown tag \"robotNamespace\" in /robot[@name='iiwa7']/transmission[@name='iiwa_tran_5']\n",
      "Unknown tag \"hardwareInterface\" in /robot[@name='iiwa7']/transmission[@name='iiwa_tran_6']/actuator[@name='iiwa_motor_6']\n",
      "Unknown tag \"robotNamespace\" in /robot[@name='iiwa7']/transmission[@name='iiwa_tran_6']\n",
      "Unknown tag \"hardwareInterface\" in /robot[@name='iiwa7']/transmission[@name='iiwa_tran_7']/actuator[@name='iiwa_motor_7']\n",
      "Unknown tag \"robotNamespace\" in /robot[@name='iiwa7']/transmission[@name='iiwa_tran_7']\n"
     ]
    }
   ],
   "source": [
    "optitrack_frame_names=['iiwa_base7', 'thumb_tip_m']\n",
    "r = Robot(optitrack_frame_names=optitrack_frame_names, calibration=True)"
   ],
   "metadata": {
    "collapsed": false,
    "pycharm": {
     "name": "#%%\n"
    }
   }
  },
  {
   "cell_type": "code",
   "execution_count": 5,
   "outputs": [
    {
     "name": "stdout",
     "output_type": "stream",
     "text": [
      "[ 0.69128507  0.37766046  0.33675591 -0.4752421   0.70036868 -0.46459103\n",
      "  0.2603533 ]\n",
      "{'thumb_tip_m': array([0.83429761, 0.40487476, 0.37016009, 0.57427467, 0.32517999,\n",
      "       0.1313109 , 0.73974591]), 'iiwa_base7': array([ 3.10812672e-02,  6.80085266e-04,  7.65026371e-02,  9.98941116e-01,\n",
      "        4.30501745e-03, -8.87875679e-03, -4.49364128e-02])}\n",
      "[array([-0.01729725, -0.05141172,  0.23178008,  0.99319922,  0.04789255,\n",
      "        0.09693565, -0.04318681]), array([-4.25452266e-03,  9.43101509e-04,  2.36642788e-01,  9.80293493e-01,\n",
      "        4.79786290e-03,  1.96025420e-01, -2.39933871e-02]), array([ 0.02733789,  0.05361915,  0.22799123,  0.89370769, -0.02895118,\n",
      "        0.44595992, -0.03959982]), array([ 0.04052182,  0.05830514,  0.09662654,  0.04850917,  0.0933361 ,\n",
      "       -0.40760921, -0.9070777 ])]\n"
     ]
    }
   ],
   "source": [
    "print(r.x)\n",
    "print(r.x_obj)\n",
    "print(r.xh)\n",
    "# print(r.q) # [ 0.31333505  0.91675294  0.38246485 -1.1181452   1.05204611 -0.18829075  -2.78992007] for calibration of the hand"
   ],
   "metadata": {
    "collapsed": false,
    "pycharm": {
     "name": "#%%\n"
    }
   }
  },
  {
   "cell_type": "code",
   "execution_count": 4,
   "outputs": [
    {
     "name": "stdout",
     "output_type": "stream",
     "text": [
      "Linear interpolation by 1446 joints\n",
      "Trajectory has been executed.\n"
     ]
    }
   ],
   "source": [
    "q1 = np.array([ 0.31333505 , 0.91675294 , 0.38246485, -1.1181452  , 1.05204611, -0.18829075 , -2.78992007])\n",
    "r.move_to_joints(q1)"
   ],
   "metadata": {
    "collapsed": false,
    "pycharm": {
     "name": "#%%\n"
    }
   }
  },
  {
   "cell_type": "code",
   "execution_count": 6,
   "outputs": [
    {
     "name": "stdout",
     "output_type": "stream",
     "text": [
      "Linear interpolation by 345 joints\n",
      "Trajectory has been executed.\n",
      "0\n",
      "Linear interpolation by 174 joints\n",
      "Trajectory has been executed.\n",
      "1\n",
      "Linear interpolation by 51 joints\n",
      "Trajectory has been executed.\n",
      "2\n",
      "Linear interpolation by 53 joints\n",
      "Trajectory has been executed.\n",
      "3\n",
      "Linear interpolation by 137 joints\n",
      "Trajectory has been executed.\n",
      "4\n",
      "Linear interpolation by 318 joints\n",
      "Trajectory has been executed.\n",
      "5\n",
      "Linear interpolation by 234 joints\n",
      "Trajectory has been executed.\n",
      "6\n",
      "Linear interpolation by 212 joints\n",
      "Trajectory has been executed.\n",
      "7\n",
      "Linear interpolation by 175 joints\n",
      "Trajectory has been executed.\n",
      "8\n",
      "Linear interpolation by 121 joints\n",
      "Trajectory has been executed.\n",
      "9\n",
      "Linear interpolation by 108 joints\n",
      "Trajectory has been executed.\n",
      "10\n",
      "Linear interpolation by 288 joints\n",
      "Trajectory has been executed.\n",
      "11\n",
      "Linear interpolation by 202 joints\n",
      "Trajectory has been executed.\n",
      "12\n",
      "Linear interpolation by 279 joints\n",
      "Trajectory has been executed.\n",
      "13\n",
      "Linear interpolation by 164 joints\n",
      "Trajectory has been executed.\n",
      "14\n",
      "Linear interpolation by 102 joints\n",
      "Trajectory has been executed.\n",
      "15\n",
      "Linear interpolation by 194 joints\n",
      "Trajectory has been executed.\n",
      "16\n",
      "Linear interpolation by 173 joints\n",
      "Trajectory has been executed.\n",
      "17\n",
      "Linear interpolation by 296 joints\n",
      "Trajectory has been executed.\n",
      "18\n",
      "Linear interpolation by 342 joints\n",
      "Trajectory has been executed.\n",
      "19\n",
      "Linear interpolation by 137 joints\n",
      "Trajectory has been executed.\n",
      "20\n",
      "Linear interpolation by 273 joints\n",
      "Trajectory has been executed.\n",
      "21\n",
      "Linear interpolation by 361 joints\n",
      "Trajectory has been executed.\n",
      "22\n",
      "Linear interpolation by 268 joints\n",
      "Trajectory has been executed.\n",
      "23\n",
      "Linear interpolation by 142 joints\n",
      "Trajectory has been executed.\n",
      "24\n",
      "Linear interpolation by 207 joints\n",
      "Trajectory has been executed.\n",
      "25\n",
      "Linear interpolation by 166 joints\n",
      "Trajectory has been executed.\n",
      "26\n",
      "Linear interpolation by 168 joints\n",
      "Trajectory has been executed.\n",
      "27\n",
      "Linear interpolation by 159 joints\n",
      "Trajectory has been executed.\n",
      "28\n",
      "Linear interpolation by 187 joints\n",
      "Trajectory has been executed.\n",
      "29\n",
      "Linear interpolation by 277 joints\n",
      "Trajectory has been executed.\n",
      "30\n",
      "Linear interpolation by 101 joints\n",
      "Trajectory has been executed.\n",
      "31\n",
      "Linear interpolation by 185 joints\n",
      "Trajectory has been executed.\n",
      "32\n",
      "Linear interpolation by 248 joints\n",
      "Trajectory has been executed.\n",
      "33\n",
      "Linear interpolation by 241 joints\n",
      "Trajectory has been executed.\n",
      "34\n",
      "Linear interpolation by 140 joints\n",
      "Trajectory has been executed.\n",
      "35\n",
      "Linear interpolation by 162 joints\n",
      "Trajectory has been executed.\n",
      "36\n",
      "Linear interpolation by 216 joints\n",
      "Trajectory has been executed.\n",
      "37\n",
      "Linear interpolation by 278 joints\n",
      "Trajectory has been executed.\n",
      "38\n",
      "Linear interpolation by 109 joints\n",
      "Trajectory has been executed.\n",
      "39\n"
     ]
    }
   ],
   "source": [
    "nums = 40\n",
    "import time\n",
    "\n",
    "q_rand = np.random.uniform(r.hand.bounds[0, 12:], r.hand.bounds[1, 12:], size=(nums, 4))\n",
    "q0 = np.copy(r.qh)\n",
    "pose_list = []\n",
    "x_identity = np.array([0,0,0,1,0,0,0])\n",
    "# x0 = np.copy(r.x)\n",
    "for i in range(nums):\n",
    "    q_cmd = np.concatenate([q0[:12], q_rand[i,:]])  # only control the thumb\n",
    "    assert q_cmd.shape == (16,)\n",
    "    r.move_to_joints(q_cmd)\n",
    "    print(i)\n",
    "    time.sleep(2)\n",
    "    pose_list.append([[r.x, r.x_obj['thumb_tip_m']], r.xh[-1]]) # todo, check if the pose is valid or has been updated, otherwise might some markers are not seen."
   ],
   "metadata": {
    "collapsed": false,
    "pycharm": {
     "name": "#%%\n"
    }
   }
  },
  {
   "cell_type": "code",
   "execution_count": 7,
   "outputs": [],
   "source": [
    "#Solve the AX=XB problem.\n",
    "from Pose_Estimation_Class import EKF, Batch_Processing, IEKF, UKF\n",
    "\n",
    "num=20\n",
    "A = np.zeros([4,4,int(nums/2)])\n",
    "B = np.zeros([4,4,int(nums/2)])\n",
    "for i in range(0, nums, 2):\n",
    "    T_m12w_1 = rot.pose2T(pose_list[i][0][0] )\n",
    "    T_m22w_1 = rot.pose2T(pose_list[i][0][1] )\n",
    "    T_base2fk_1 = np.linalg.inv(rot.pose2T(pose_list[i][1] ))\n",
    "\n",
    "    T_m12w_2 = rot.pose2T(pose_list[i+1][0][0] )\n",
    "    T_m22w_2 = rot.pose2T(pose_list[i+1][0][1] )\n",
    "    T_base2fk_2 = np.linalg.inv(rot.pose2T(pose_list[i+1][1] ))\n",
    "\n",
    "\n",
    "    A[:,:,int(i/2)] = np.linalg.inv(T_m12w_2) @ T_m22w_2 @ np.linalg.inv(T_m22w_1) @ T_m12w_1\n",
    "    B[:,:,int(i/2)] = np.linalg.inv(T_base2fk_2) @ T_base2fk_1\n",
    "\n",
    "#Solve the AX=XB problem.\n",
    "ekf=EKF()\n",
    "for i in range(len(A[1,1,:])):\n",
    "    AA=A[:,:,i]\n",
    "    BB= A[:,:,i]\n",
    "    ekf.Update(AA,BB)\n",
    "\n",
    "\n",
    "iekf=IEKF()\n",
    "for i in range(len(A[1,1,:])):\n",
    "    AA=A[:,:,i]\n",
    "    BB=B[:,:,i]\n",
    "    iekf.Update(AA,BB)\n",
    "\n",
    "\n",
    "ukf=UKF()\n",
    "for i in range(len(A[1,1,:])):\n",
    "    AA=A[:,:,i]\n",
    "    BB=B[:,:,i]\n",
    "    ukf.Update(AA,BB)\n",
    "\n",
    "#Solve the AX=YB problem.\n",
    "A = np.zeros([4,4,nums])\n",
    "B = np.zeros([4,4,nums])\n",
    "# [r.x, r.x_obj['thumb_tip_m']], r.xh[-1]\n",
    "for i in range(0, nums):\n",
    "    T_m12w_1 = rot.pose2T(pose_list[i][0][0] )\n",
    "    T_m22w_1 = rot.pose2T(pose_list[i][0][1] )\n",
    "    T_base2fk_1 = np.linalg.inv(rot.pose2T(pose_list[i][1] ))\n",
    "    A[:,:,i] = np.linalg.inv(T_m22w_1) @ T_m12w_1  # T_ee2marker_m\n",
    "    B[:,:,i] = T_base2fk_1\n",
    "X_est,Y_est,Y_est_check,ErrorStats=Batch_Processing.pose_estimation(A, B)\n",
    "x_est = rot.T2pose(X_est) # [x,y,z, qw, qx, qy, qz]"
   ],
   "metadata": {
    "collapsed": false,
    "pycharm": {
     "name": "#%%\n"
    }
   }
  },
  {
   "cell_type": "code",
   "execution_count": 8,
   "outputs": [
    {
     "name": "stdout",
     "output_type": "stream",
     "text": [
      "position:\n",
      " [ 0.02261976 -0.02329719  0.02584867] \n",
      " [-0.00340164 -0.00585751 -0.01103241] \n",
      " [-0.00747859 -0.05007174  0.02277088] \n",
      " [-0.02036417 -0.0435866   0.04955417] \n",
      "\n",
      "quaternion:\n",
      " [ 0.7120723   0.00295735 -0.02026721 -0.70180734] \n",
      " [ 0.99846416 -0.02298539  0.05033421  0.00273081] \n",
      " [ 0.73774093 -0.07730777  0.48783535 -0.46019399] \n",
      " [ 0.84323123  0.05128614  0.31699969 -0.43109399] \n",
      "\n",
      "quat error in degree:\n",
      " 89.85936598168682 66.10383615750698 52.5412454599508\n"
     ]
    }
   ],
   "source": [
    "print('position:\\n', x_est[:3], '\\n', ekf.x[3:], '\\n', iekf.x[3:], '\\n', ukf.x[3:], '\\n' )\n",
    "print('quaternion:\\n', x_est[3:], '\\n', rot.axisangle2quat(ekf.x[:3]),'\\n',  rot.axisangle2quat(iekf.x[:3]), '\\n', rot.axisangle2quat(ukf.x[:3]), '\\n')\n",
    "print('quat error in degree:\\n',\n",
    "      rot.ori_dis(x_est[3:], rot.axisangle2quat(ekf.x[:3]))*180/np.pi,\n",
    "        rot.ori_dis(x_est[3:], rot.axisangle2quat(iekf.x[:3]))*180/np.pi,\n",
    "        rot.ori_dis(x_est[3:], rot.axisangle2quat(ukf.x[:3]))*180/np.pi)"
   ],
   "metadata": {
    "collapsed": false,
    "pycharm": {
     "name": "#%%\n"
    }
   }
  },
  {
   "cell_type": "code",
   "execution_count": null,
   "outputs": [],
   "source": [],
   "metadata": {
    "collapsed": false,
    "pycharm": {
     "name": "#%%\n"
    }
   }
  },
  {
   "cell_type": "code",
   "execution_count": 11,
   "outputs": [],
   "source": [
    "np.savetxt('description/config/allegro_left_base_2_iiwa_link_ee.txt', x_est)"
   ],
   "metadata": {
    "collapsed": false,
    "pycharm": {
     "name": "#%%\n"
    }
   }
  },
  {
   "cell_type": "code",
   "execution_count": 12,
   "outputs": [
    {
     "data": {
      "text/plain": "array([-0.02425126, -0.03302043, -1.55667676])"
     },
     "execution_count": 12,
     "metadata": {},
     "output_type": "execute_result"
    }
   ],
   "source": [
    "rot.quat2euler(x_est[3:])"
   ],
   "metadata": {
    "collapsed": false,
    "pycharm": {
     "name": "#%%\n"
    }
   }
  },
  {
   "cell_type": "code",
   "execution_count": 21,
   "outputs": [
    {
     "data": {
      "text/plain": "array([ -1.38949481,  -1.89193104, -89.19100855])"
     },
     "execution_count": 21,
     "metadata": {},
     "output_type": "execute_result"
    }
   ],
   "source": [
    "rot.quat2euler(x_est[3:]) * 180/np.pi"
   ],
   "metadata": {
    "collapsed": false,
    "pycharm": {
     "name": "#%%\n"
    }
   }
  },
  {
   "cell_type": "code",
   "execution_count": 15,
   "outputs": [],
   "source": [
    "T_palm2base = np.array([0.015,0,0.1075, 1,0,0,0])\n",
    "T_root2palm = np.array([0,0,-0.095,1,0,0,0])\n",
    "\n",
    "T_root2base = rot.pose_mul(T_palm2base, T_root2palm)\n",
    "\n",
    "T_root_2ee = rot.pose_mul(x_est, T_root2base)"
   ],
   "metadata": {
    "collapsed": false,
    "pycharm": {
     "name": "#%%\n"
    }
   }
  },
  {
   "cell_type": "code",
   "execution_count": 19,
   "outputs": [
    {
     "name": "stdout",
     "output_type": "stream",
     "text": [
      "[0.015  0.     0.0125 1.     0.     0.     0.    ]\n"
     ]
    }
   ],
   "source": [
    "print(T_root2base)"
   ],
   "metadata": {
    "collapsed": false,
    "pycharm": {
     "name": "#%%\n"
    }
   }
  },
  {
   "cell_type": "code",
   "execution_count": 17,
   "outputs": [
    {
     "name": "stdout",
     "output_type": "stream",
     "text": [
      "[ 0.02241875 -0.03798817  0.03870887  0.7120723   0.00295735 -0.02026721\n",
      " -0.70180734]\n"
     ]
    }
   ],
   "source": [
    "print(T_root_2ee)"
   ],
   "metadata": {
    "collapsed": false,
    "pycharm": {
     "name": "#%%\n"
    }
   }
  }
 ],
 "metadata": {
  "kernelspec": {
   "display_name": "Python 3",
   "language": "python",
   "name": "python3"
  },
  "language_info": {
   "codemirror_mode": {
    "name": "ipython",
    "version": 2
   },
   "file_extension": ".py",
   "mimetype": "text/x-python",
   "name": "python",
   "nbconvert_exporter": "python",
   "pygments_lexer": "ipython2",
   "version": "2.7.6"
  }
 },
 "nbformat": 4,
 "nbformat_minor": 0
}