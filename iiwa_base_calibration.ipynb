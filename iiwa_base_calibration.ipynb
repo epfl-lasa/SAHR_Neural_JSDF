{
 "cells": [
  {
   "cell_type": "code",
   "execution_count": 1,
   "metadata": {
    "collapsed": true,
    "pycharm": {
     "name": "#%%\n"
    }
   },
   "outputs": [],
   "source": [
    "import numpy as np\n",
    "from controller_utils import Robot\n",
    "import rospy\n",
    "import tools.rotations as rot\n",
    "%load_ext autoreload\n",
    "%autoreload 2\n"
   ]
  },
  {
   "cell_type": "code",
   "execution_count": 2,
   "outputs": [
    {
     "name": "stdout",
     "output_type": "stream",
     "text": [
      "Kinematic model has been loaded from kinematics/q2pose_left.txt\n"
     ]
    }
   ],
   "source": [
    "optitrack_frame_names=['iiwa_base7', 'iiwa_ee_m']\n",
    "r = Robot(optitrack_frame_names=optitrack_frame_names, calibration=True)"
   ],
   "metadata": {
    "collapsed": false,
    "pycharm": {
     "name": "#%%\n"
    }
   }
  },
  {
   "cell_type": "code",
   "execution_count": 7,
   "outputs": [
    {
     "data": {
      "text/plain": "{'iiwa_base7': array([ 3.10883881e-02,  6.85629816e-04,  7.64936272e-02,  9.98938905e-01,\n         4.23531580e-03, -8.91536691e-03, -4.49849073e-02]),\n 'iiwa_ee_m': array([ 0.55901375, -0.16058507,  0.85362214,  0.49812195, -0.78473541,\n        -0.36825858, -0.02122434])}"
     },
     "execution_count": 7,
     "metadata": {},
     "output_type": "execute_result"
    }
   ],
   "source": [
    "r.x_obj"
   ],
   "metadata": {
    "collapsed": false,
    "pycharm": {
     "name": "#%%\n"
    }
   }
  },
  {
   "cell_type": "code",
   "execution_count": 3,
   "outputs": [
    {
     "name": "stdout",
     "output_type": "stream",
     "text": [
      "Linear interpolation by 2819 joints\n",
      "Trajectory has been executed.\n"
     ]
    }
   ],
   "source": [
    "r.iiwa_go_home()"
   ],
   "metadata": {
    "collapsed": false,
    "pycharm": {
     "name": "#%%\n"
    }
   }
  },
  {
   "cell_type": "code",
   "execution_count": 5,
   "outputs": [
    {
     "data": {
      "text/plain": "{'iiwa_ee_m': array([-6.34064198e-01, -2.31095719e+00,  1.78158724e+00, -9.37378943e-01,\n         1.50641182e-03,  1.93703905e-01,  2.89477587e-01]),\n 'iiwa_base7': array([-1.10647011e+00, -1.99815965e+00,  8.80739570e-01, -1.00000000e+00,\n         3.25338915e-05, -1.65663660e-05,  1.13584101e-05])}"
     },
     "execution_count": 5,
     "metadata": {},
     "output_type": "execute_result"
    }
   ],
   "source": [
    "r.x_obj"
   ],
   "metadata": {
    "collapsed": false,
    "pycharm": {
     "name": "#%%\n"
    }
   }
  },
  {
   "cell_type": "code",
   "execution_count": 3,
   "outputs": [
    {
     "data": {
      "text/plain": "(20, 7)"
     },
     "execution_count": 3,
     "metadata": {},
     "output_type": "execute_result"
    }
   ],
   "source": [
    "q_list = []\n",
    "# for i in range(q_list.shape[0]):\n",
    "#     print(i)\n",
    "#     q_list.append(r.q)\n",
    "\n",
    "# np.save('iiwa_calibration_joints', np.vstack(q_list))\n",
    "q_list = np.load('iiwa_calibration_joints.npy')\n",
    "q_list.shape"
   ],
   "metadata": {
    "collapsed": false,
    "pycharm": {
     "name": "#%%\n"
    }
   }
  },
  {
   "cell_type": "code",
   "execution_count": 19,
   "outputs": [
    {
     "data": {
      "text/plain": "(40, 7)"
     },
     "execution_count": 19,
     "metadata": {},
     "output_type": "execute_result"
    }
   ],
   "source": [
    "nums = 40\n",
    "# nums = q_list.shape[0]\n",
    "lb=np.array([0.5, -0.2, -1.5, -1.6, -0.2, -0.3, -0.4])\n",
    "ub = np.array([0.7, 0.3, -1,  -1.2, 1.5, 0.9, 1.5])\n",
    "q_rand = np.random.uniform(lb, ub , size=(nums, 7))\n",
    "q_rand.shape"
   ],
   "metadata": {
    "collapsed": false,
    "pycharm": {
     "name": "#%%\n"
    }
   }
  },
  {
   "cell_type": "code",
   "execution_count": 20,
   "outputs": [
    {
     "name": "stdout",
     "output_type": "stream",
     "text": [
      "0\n",
      "Linear interpolation by 115 joints\n",
      "Trajectory has been executed.\n",
      "1\n",
      "Linear interpolation by 471 joints\n",
      "Trajectory has been executed.\n",
      "2\n",
      "Linear interpolation by 512 joints\n",
      "Trajectory has been executed.\n",
      "3\n",
      "Linear interpolation by 237 joints\n",
      "Trajectory has been executed.\n",
      "4\n",
      "Linear interpolation by 207 joints\n",
      "Trajectory has been executed.\n",
      "5\n",
      "Linear interpolation by 365 joints\n",
      "Trajectory has been executed.\n",
      "6\n",
      "Linear interpolation by 541 joints\n",
      "Trajectory has been executed.\n",
      "7\n",
      "Linear interpolation by 180 joints\n",
      "Trajectory has been executed.\n",
      "8\n",
      "Linear interpolation by 195 joints\n",
      "Trajectory has been executed.\n",
      "9\n",
      "Linear interpolation by 456 joints\n",
      "Trajectory has been executed.\n",
      "10\n",
      "Linear interpolation by 297 joints\n",
      "Trajectory has been executed.\n",
      "11\n",
      "Linear interpolation by 279 joints\n",
      "Trajectory has been executed.\n",
      "12\n",
      "Linear interpolation by 448 joints\n",
      "Trajectory has been executed.\n",
      "13\n",
      "Linear interpolation by 334 joints\n",
      "Trajectory has been executed.\n",
      "14\n",
      "Linear interpolation by 378 joints\n",
      "Trajectory has been executed.\n",
      "15\n",
      "Linear interpolation by 449 joints\n",
      "Trajectory has been executed.\n",
      "16\n",
      "Linear interpolation by 345 joints\n",
      "Trajectory has been executed.\n",
      "17\n",
      "Linear interpolation by 650 joints\n",
      "Trajectory has been executed.\n",
      "18\n",
      "Linear interpolation by 634 joints\n",
      "Trajectory has been executed.\n",
      "19\n",
      "Linear interpolation by 439 joints\n",
      "Trajectory has been executed.\n",
      "20\n",
      "Linear interpolation by 159 joints\n",
      "Trajectory has been executed.\n",
      "21\n",
      "Linear interpolation by 750 joints\n",
      "Trajectory has been executed.\n",
      "22\n",
      "Linear interpolation by 603 joints\n",
      "Trajectory has been executed.\n",
      "23\n",
      "Linear interpolation by 738 joints\n",
      "Trajectory has been executed.\n",
      "24\n",
      "Linear interpolation by 660 joints\n",
      "Trajectory has been executed.\n",
      "25\n",
      "Linear interpolation by 340 joints\n",
      "Trajectory has been executed.\n",
      "26\n",
      "Linear interpolation by 666 joints\n",
      "Trajectory has been executed.\n",
      "27\n",
      "Linear interpolation by 367 joints\n",
      "Trajectory has been executed.\n",
      "28\n",
      "Linear interpolation by 417 joints\n",
      "Trajectory has been executed.\n",
      "29\n",
      "Linear interpolation by 669 joints\n",
      "Trajectory has been executed.\n",
      "30\n",
      "Linear interpolation by 399 joints\n",
      "Trajectory has been executed.\n",
      "31\n",
      "Linear interpolation by 513 joints\n",
      "Trajectory has been executed.\n",
      "32\n",
      "Linear interpolation by 494 joints\n",
      "Trajectory has been executed.\n",
      "33\n",
      "Linear interpolation by 530 joints\n",
      "Trajectory has been executed.\n",
      "34\n",
      "Linear interpolation by 254 joints\n",
      "Trajectory has been executed.\n",
      "35\n",
      "Linear interpolation by 196 joints\n",
      "Trajectory has been executed.\n",
      "36\n",
      "Linear interpolation by 235 joints\n",
      "Trajectory has been executed.\n",
      "37\n",
      "Linear interpolation by 453 joints\n",
      "Trajectory has been executed.\n",
      "38\n",
      "Linear interpolation by 489 joints\n",
      "Trajectory has been executed.\n",
      "39\n",
      "Linear interpolation by 758 joints\n",
      "Trajectory has been executed.\n"
     ]
    }
   ],
   "source": [
    "pose_list = []\n",
    "for i in range(nums):\n",
    "    print(i)\n",
    "    r.move_to_joints(q_rand[i,:], vel=[0.4, 1])\n",
    "    rospy.sleep(2)\n",
    "    #  todo, check if the optitrack frame is visible or not\n",
    "    pose_list.append([r.x_obj, r.x]) # todo, check if the pose is valid or has been updated, otherwise might some markers are not seen."
   ],
   "metadata": {
    "collapsed": false,
    "pycharm": {
     "name": "#%%\n"
    }
   }
  },
  {
   "cell_type": "code",
   "execution_count": 21,
   "outputs": [],
   "source": [
    "np.save('iiwa_calibration_joints', q_rand)\n"
   ],
   "metadata": {
    "collapsed": false,
    "pycharm": {
     "name": "#%%\n"
    }
   }
  },
  {
   "cell_type": "code",
   "execution_count": 22,
   "outputs": [
    {
     "data": {
      "text/plain": "40"
     },
     "execution_count": 22,
     "metadata": {},
     "output_type": "execute_result"
    }
   ],
   "source": [
    "len(pose_list)"
   ],
   "metadata": {
    "collapsed": false,
    "pycharm": {
     "name": "#%%\n"
    }
   }
  },
  {
   "cell_type": "code",
   "execution_count": 8,
   "outputs": [
    {
     "data": {
      "text/plain": "{'iiwa_base7': array([-1.10647225e+00, -1.99813306e+00,  8.80863249e-01, -7.07084000e-01,\n         7.07126617e-01,  9.83484206e-04, -1.80687977e-03]),\n 'iiwa_ee_m': array([-0.4882383 , -2.13998008,  1.50013793, -0.96507037,  0.16858596,\n         0.00539349,  0.20047165])}"
     },
     "execution_count": 8,
     "metadata": {},
     "output_type": "execute_result"
    }
   ],
   "source": [
    "r.x_obj"
   ],
   "metadata": {
    "collapsed": false,
    "pycharm": {
     "name": "#%%\n"
    }
   }
  },
  {
   "cell_type": "code",
   "execution_count": 23,
   "outputs": [
    {
     "name": "stdout",
     "output_type": "stream",
     "text": [
      "[ 0.51256919 -0.16702264  0.72031084  0.317049    0.64516174  0.43654598\n",
      "  0.54099341]\n",
      "[ 0.37676405 -0.26600089  0.92021996  0.75351561  0.36912573  0.45838356\n",
      "  0.29299305]\n",
      "[ 0.40896136 -0.33583411  0.78954401  0.6161845   0.65274991  0.09122782\n",
      "  0.43117479]\n",
      "[ 0.52894681 -0.16387901  0.7007101   0.60901963  0.49586183  0.56870872\n",
      "  0.24451284]\n",
      "[ 0.31968912 -0.41112991  0.74983738  0.68331933  0.57128059  0.44242841\n",
      "  0.10473914]\n",
      "[ 0.36865955 -0.31430926  0.73877463  0.51757427  0.429394    0.67864095\n",
      "  0.2952696 ]\n",
      "[ 0.47833395 -0.25519786  0.69951583  0.53499461  0.67375447  0.35082793\n",
      "  0.3698046 ]\n",
      "[ 0.39789062 -0.30032343  0.90532752  0.74121189  0.51639783  0.14983983\n",
      "  0.40185352]\n",
      "[ 0.52585003 -0.15797324  0.83782594  0.77148977  0.40106462  0.43691562\n",
      "  0.23033769]\n",
      "[ 0.49610587 -0.18433537  0.70145683  0.44456509  0.45432076  0.77197669\n",
      "  0.00255372]\n",
      "[ 0.37044619 -0.33910138  0.86104615  0.72774126  0.4699507   0.47954557\n",
      "  0.1399108 ]\n",
      "[ 0.32098018 -0.37509236  0.91082988  0.80271149  0.50267328  0.28078914\n",
      "  0.15534252]\n",
      "[ 0.44295871 -0.27282116  0.87137159  0.78445596  0.36869568  0.49752463\n",
      "  0.03408192]\n",
      "[ 0.43651685 -0.30578388  0.76476983  0.57832632  0.06918123  0.71822637\n",
      " -0.38066192]\n",
      "[ 0.35441894 -0.32752352  0.77611585  0.48752165  0.32053126  0.81192193\n",
      " -0.01910864]\n",
      "[ 0.45888515 -0.22650062  0.82287409  0.4042168   0.60981501  0.47994079\n",
      "  0.48413972]\n",
      "[ 0.30815551 -0.42023758  0.76946826  0.67738915  0.62067916  0.3254009\n",
      "  0.2236416 ]\n",
      "[ 0.55078653 -0.19678114  0.74000487  0.72070137  0.07592313  0.63705302\n",
      " -0.26265693]\n",
      "[ 0.5282294  -0.14105232  0.80582804  0.54623484  0.52798862  0.44785877\n",
      "  0.47146372]\n",
      "[ 0.35790375 -0.35355762  0.84939873  0.41773822  0.68208172  0.09440572\n",
      "  0.5927452 ]\n",
      "[ 0.49730698 -0.23575576  0.7377139   0.33900169  0.78695912  0.33049333\n",
      "  0.39566065]\n",
      "[ 0.36959614 -0.3359353   0.80285659  0.58652727  0.32432283  0.73786732\n",
      " -0.0797012 ]\n",
      "[ 0.40088616 -0.29659109  0.86241836  0.56808984  0.61037334  0.08874189\n",
      "  0.54483318]\n",
      "[ 0.40014409 -0.32113572  0.75599902  0.4920803   0.37088169  0.76427456\n",
      " -0.19023183]\n",
      "[ 0.38828584 -0.35322569  0.79086135  0.67634155  0.59088992  0.34854461\n",
      "  0.2681937 ]\n",
      "[ 0.45067981 -0.23399104  0.75074809  0.52820121  0.29097988  0.77471521\n",
      "  0.19013295]\n",
      "[ 0.42581557 -0.26899338  0.80140107  0.44114991  0.67015745  0.39060733\n",
      "  0.4513332 ]\n",
      "[ 0.30465852 -0.38993862  0.90704598  0.80810462  0.51063037  0.1966852\n",
      "  0.21803322]\n",
      "[ 0.42518515 -0.29515932  0.77967992  0.60990469  0.27824811  0.73579613\n",
      " -0.09590779]\n",
      "[ 0.41576953 -0.30552705  0.8034301   0.54954508  0.67567395  0.39669079\n",
      "  0.29000229]\n",
      "[ 0.4455758  -0.31359109  0.73627904  0.61638024  0.39749046  0.66689943\n",
      " -0.13161263]\n",
      "[ 0.37112191 -0.31663461  0.88315418  0.6084515   0.55155538  0.31372661\n",
      "  0.47660155]\n",
      "[ 0.47951523 -0.16466358  0.70799093  0.41115371  0.27025641  0.87009741\n",
      " -0.02906205]\n",
      "[ 0.54023283 -0.20356301  0.78199576  0.71585803  0.35870989  0.5946544\n",
      "  0.07253029]\n",
      "[ 0.40987114 -0.25242043  0.82383941  0.55443265  0.440844    0.57922129\n",
      "  0.40343983]\n",
      "[ 0.40246972 -0.2675433   0.70902923  0.51204547  0.3582273   0.74232069\n",
      "  0.24174909]\n",
      "[ 0.46636562 -0.27506556  0.78856878  0.64101232  0.53536717  0.46418222\n",
      "  0.29499164]\n",
      "[ 0.55070901 -0.14547085  0.70033088  0.55061644  0.5327662   0.61270819\n",
      "  0.19383081]\n",
      "[ 0.39181515 -0.29027008  0.69081604  0.45130561  0.34498813  0.82145177\n",
      "  0.0502337 ]\n",
      "[ 0.41445272 -0.31513645  0.86153801  0.45806338  0.61865143 -0.05146867\n",
      "  0.63623841]\n"
     ]
    }
   ],
   "source": [
    "for i in pose_list:\n",
    "    print(i[1])"
   ],
   "metadata": {
    "collapsed": false,
    "pycharm": {
     "name": "#%%\n"
    }
   }
  },
  {
   "cell_type": "code",
   "execution_count": 26,
   "outputs": [],
   "source": [
    "#Solve the AX=XB problem.\n",
    "from Pose_Estimation_Class import EKF, Batch_Processing, IEKF, UKF\n",
    "\n",
    "num=20\n",
    "A = np.zeros([4,4,int(nums/2)])\n",
    "B = np.zeros([4,4,int(nums/2)])\n",
    "for i in range(0, nums, 2):\n",
    "    T_m12w_1 = rot.pose2T(pose_list[i][0][optitrack_frame_names[0]] )\n",
    "    T_m22w_1 = rot.pose2T(pose_list[i][0][optitrack_frame_names[1]] )\n",
    "    T_base2fk_1 = np.linalg.inv(rot.pose2T(pose_list[i][1] ))\n",
    "\n",
    "    T_m12w_2 = rot.pose2T(pose_list[i+1][0][optitrack_frame_names[0]] )\n",
    "    T_m22w_2 = rot.pose2T(pose_list[i+1][0][optitrack_frame_names[1]] )\n",
    "    T_base2fk_2 = np.linalg.inv(rot.pose2T(pose_list[i+1][1] ))\n",
    "\n",
    "\n",
    "    A[:,:,int(i/2)] = np.linalg.inv(T_m12w_2) @ T_m22w_2 @ np.linalg.inv(T_m22w_1) @ T_m12w_1\n",
    "    B[:,:,int(i/2)] = np.linalg.inv(T_base2fk_2) @ T_base2fk_1\n",
    "\n",
    "#Solve the AX=XB problem.\n",
    "ekf=EKF()\n",
    "for i in range(len(A[1,1,:])):\n",
    "    AA=A[:,:,i]\n",
    "    BB= A[:,:,i]\n",
    "    ekf.Update(AA,BB)\n",
    "\n",
    "\n",
    "iekf=IEKF()\n",
    "for i in range(len(A[1,1,:])):\n",
    "    AA=A[:,:,i]\n",
    "    BB=B[:,:,i]\n",
    "    iekf.Update(AA,BB)\n",
    "\n",
    "\n",
    "ukf=UKF()\n",
    "for i in range(len(A[1,1,:])):\n",
    "    AA=A[:,:,i]\n",
    "    BB=B[:,:,i]\n",
    "    ukf.Update(AA,BB)\n",
    "\n",
    "#Solve the AX=YB problem.\n",
    "A = np.zeros([4,4,nums])\n",
    "B = np.zeros([4,4,nums])\n",
    "for i in range(0, nums):\n",
    "    T_m12w_1 = rot.pose2T(pose_list[i][0][optitrack_frame_names[0]] )\n",
    "    T_m22w_1 = rot.pose2T(pose_list[i][0][optitrack_frame_names[1]] )\n",
    "    T_base2fk_1 = np.linalg.inv(rot.pose2T(pose_list[i][1] ))\n",
    "    A[:,:,i] = np.linalg.inv(T_m22w_1) @ T_m12w_1\n",
    "    B[:,:,i] = T_base2fk_1\n",
    "X_est,Y_est,Y_est_check,ErrorStats=Batch_Processing.pose_estimation(A, B)\n",
    "x_est = rot.T2pose(X_est) # [x,y,z, qw, qx, qy, qz]"
   ],
   "metadata": {
    "collapsed": false,
    "pycharm": {
     "name": "#%%\n"
    }
   }
  },
  {
   "cell_type": "code",
   "execution_count": 27,
   "outputs": [
    {
     "name": "stdout",
     "output_type": "stream",
     "text": [
      "position:\n",
      " [-0.03222253 -0.00417823 -0.0759096 ] \n",
      " [-0.04337558 -0.02384747 -0.00014871] \n",
      " [-0.06968535 -0.02570436 -0.06859286] \n",
      " [-0.00113127 -0.08720326  0.19980981] \n",
      "\n",
      "quaternion:\n",
      " [ 0.99894057 -0.00430084  0.00891559  0.04494156] \n",
      " [ 0.99931547 -0.01620237  0.03270785  0.00602181] \n",
      " [ 0.99527224 -0.01553598  0.07336026  0.06172574] \n",
      " [ 0.9950113  -0.04771517  0.07369961  0.04737235] \n",
      "\n",
      "quat error in degree:\n",
      " 5.402863897029121 7.751891286241216 8.95445395841561\n"
     ]
    }
   ],
   "source": [
    "print('position:\\n', x_est[:3], '\\n', ekf.x[3:], '\\n', iekf.x[3:], '\\n', ukf.x[3:], '\\n' )\n",
    "print('quaternion:\\n', x_est[3:], '\\n', rot.axisangle2quat(ekf.x[:3]),'\\n',  rot.axisangle2quat(iekf.x[:3]), '\\n', rot.axisangle2quat(ukf.x[:3]), '\\n')\n",
    "print('quat error in degree:\\n',rot.ori_dis(x_est[3:], rot.axisangle2quat(ekf.x[:3]))*180/np.pi,\n",
    "        rot.ori_dis(x_est[3:], rot.axisangle2quat(iekf.x[:3]))*180/np.pi,\n",
    "        rot.ori_dis(x_est[3:], rot.axisangle2quat(ukf.x[:3]))*180/np.pi)"
   ],
   "metadata": {
    "collapsed": false,
    "pycharm": {
     "name": "#%%\n"
    }
   }
  },
  {
   "cell_type": "code",
   "execution_count": 29,
   "outputs": [],
   "source": [
    "np.savetxt('description/config/iwwa_link_0_2_iiwabase7_calibration.txt', x_est)"
   ],
   "metadata": {
    "collapsed": false,
    "pycharm": {
     "name": "#%%\n"
    }
   }
  }
 ],
 "metadata": {
  "kernelspec": {
   "display_name": "Python 3",
   "language": "python",
   "name": "python3"
  },
  "language_info": {
   "codemirror_mode": {
    "name": "ipython",
    "version": 2
   },
   "file_extension": ".py",
   "mimetype": "text/x-python",
   "name": "python",
   "nbconvert_exporter": "python",
   "pygments_lexer": "ipython2",
   "version": "2.7.6"
  }
 },
 "nbformat": 4,
 "nbformat_minor": 0
}