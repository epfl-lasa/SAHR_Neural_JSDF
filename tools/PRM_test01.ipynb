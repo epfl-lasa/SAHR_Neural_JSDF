{
 "cells": [
  {
   "cell_type": "code",
   "execution_count": 2,
   "id": "initial_id",
   "metadata": {
    "collapsed": true,
    "ExecuteTime": {
     "end_time": "2024-06-28T09:55:26.551672204Z",
     "start_time": "2024-06-28T09:55:24.038834495Z"
    }
   },
   "outputs": [
    {
     "name": "stdout",
     "output_type": "stream",
     "text": [
      "Jupyter environment detected. Enabling Open3D WebVisualizer.\n",
      "[Open3D INFO] WebRTC GUI backend enabled.\n",
      "[Open3D INFO] WebRTCWindowSystem: HTTP handshake server disabled.\n"
     ]
    }
   ],
   "source": [
    "import numpy as np\n",
    "from PRM_tools import PRM"
   ]
  },
  {
   "cell_type": "code",
   "execution_count": 2,
   "outputs": [],
   "source": [],
   "metadata": {
    "collapsed": false,
    "ExecuteTime": {
     "end_time": "2024-06-28T09:55:26.555244529Z",
     "start_time": "2024-06-28T09:55:26.552818622Z"
    }
   },
   "id": "e18cfa079ad28c15"
  },
  {
   "cell_type": "code",
   "execution_count": 3,
   "outputs": [
    {
     "name": "stdout",
     "output_type": "stream",
     "text": [
      "Hello world\n",
      "joint_8.0 connects base_link to link_8.0\n",
      "joint_9.0 connects link_8.0 to link_9.0\n",
      "joint_10.0 connects link_9.0 to link_10.0\n",
      "joint_11.0 connects link_10.0 to link_11.0\n",
      "joint_11.0_tip connects link_11.0 to link_11.0_tip\n",
      "joint_4.0 connects base_link to link_4.0\n",
      "joint_5.0 connects link_4.0 to link_5.0\n",
      "joint_6.0 connects link_5.0 to link_6.0\n",
      "joint_7.0 connects link_6.0 to link_7.0\n",
      "joint_7.0_tip connects link_7.0 to link_7.0_tip\n",
      "joint_0.0 connects base_link to link_0.0\n",
      "joint_1.0 connects link_0.0 to link_1.0\n",
      "joint_2.0 connects link_1.0 to link_2.0\n",
      "joint_3.0 connects link_2.0 to link_3.0\n",
      "joint_3.0_tip connects link_3.0 to link_3.0_tip\n",
      "joint_12.0 connects base_link to link_12.0\n",
      "joint_13.0 connects link_12.0 to link_13.0\n",
      "joint_14.0 connects link_13.0 to link_14.0\n",
      "joint_15.0 connects link_14.0 to link_15.0\n",
      "joint_15.0_tip connects link_15.0 to link_15.0_tip\n",
      "['joint_0.0', 'joint_1.0', 'joint_2.0', 'joint_3.0', 'joint_3.0_tip', 'joint_4.0', 'joint_5.0', 'joint_6.0', 'joint_7.0', 'joint_7.0_tip', 'joint_8.0', 'joint_9.0', 'joint_10.0', 'joint_11.0', 'joint_11.0_tip', 'joint_12.0', 'joint_13.0', 'joint_14.0', 'joint_15.0', 'joint_15.0_tip']\n",
      "{'joint_8.0': 0.0, 'joint_9.0': 0.0, 'joint_10.0': 0.0, 'joint_11.0': 0.0, 'joint_11.0_tip': 0.0, 'joint_4.0': 0.0, 'joint_5.0': 0.0, 'joint_6.0': 0.0, 'joint_7.0': 0.0, 'joint_7.0_tip': 0.0, 'joint_0.0': 0.0, 'joint_1.0': 0.0, 'joint_2.0': 0.0, 'joint_3.0': 0.0, 'joint_3.0_tip': 0.0, 'joint_12.0': 0.0, 'joint_13.0': 0.0, 'joint_14.0': 0.0, 'joint_15.0': 0.0, 'joint_15.0_tip': 0.0}\n",
      "Loading neural network models ...\n",
      "Initializing Robot Model ...\n",
      "Hand-obj collision: load NN model from /home/xiao/research/lasa/multi_grasping/Neural-JSDF/JSDF/hand/NN_model/models/single_001_left.pt use_cuda= True\n",
      "Hand-obj collision: load NN model from /home/xiao/research/lasa/multi_grasping/Neural-JSDF/JSDF/hand/NN_model/models/single_101_left.pt use_cuda= True\n",
      "Hand-obj collision: load NN model from /home/xiao/research/lasa/multi_grasping/Neural-JSDF/JSDF/hand/NN_model/models/single_401_left.pt use_cuda= True\n",
      "joint_8.0 connects base_link to link_8.0\n",
      "joint_9.0 connects link_8.0 to link_9.0\n",
      "joint_10.0 connects link_9.0 to link_10.0\n",
      "joint_11.0 connects link_10.0 to link_11.0\n",
      "joint_11.0_tip connects link_11.0 to link_11.0_tip\n",
      "joint_4.0 connects base_link to link_4.0\n",
      "joint_5.0 connects link_4.0 to link_5.0\n",
      "joint_6.0 connects link_5.0 to link_6.0\n",
      "joint_7.0 connects link_6.0 to link_7.0\n",
      "joint_7.0_tip connects link_7.0 to link_7.0_tip\n",
      "joint_0.0 connects base_link to link_0.0\n",
      "joint_1.0 connects link_0.0 to link_1.0\n",
      "joint_2.0 connects link_1.0 to link_2.0\n",
      "joint_3.0 connects link_2.0 to link_3.0\n",
      "joint_3.0_tip connects link_3.0 to link_3.0_tip\n",
      "joint_12.0 connects base_link to link_12.0\n",
      "joint_13.0 connects link_12.0 to link_13.0\n",
      "joint_14.0 connects link_13.0 to link_14.0\n",
      "joint_15.0 connects link_14.0 to link_15.0\n",
      "joint_15.0_tip connects link_15.0 to link_15.0_tip\n",
      "['joint_0.0', 'joint_1.0', 'joint_2.0', 'joint_3.0', 'joint_3.0_tip', 'joint_4.0', 'joint_5.0', 'joint_6.0', 'joint_7.0', 'joint_7.0_tip', 'joint_8.0', 'joint_9.0', 'joint_10.0', 'joint_11.0', 'joint_11.0_tip', 'joint_12.0', 'joint_13.0', 'joint_14.0', 'joint_15.0', 'joint_15.0_tip']\n",
      "{'joint_8.0': 0.0, 'joint_9.0': 0.0, 'joint_10.0': 0.0, 'joint_11.0': 0.0, 'joint_11.0_tip': 0.0, 'joint_4.0': 0.0, 'joint_5.0': 0.0, 'joint_6.0': 0.0, 'joint_7.0': 0.0, 'joint_7.0_tip': 0.0, 'joint_0.0': 0.0, 'joint_1.0': 0.0, 'joint_2.0': 0.0, 'joint_3.0': 0.0, 'joint_3.0_tip': 0.0, 'joint_12.0': 0.0, 'joint_13.0': 0.0, 'joint_14.0': 0.0, 'joint_15.0': 0.0, 'joint_15.0_tip': 0.0}\n"
     ]
    }
   ],
   "source": [
    "start = np.zeros(23)\n",
    "goal = np.ones(23)\n",
    "PRM_test = PRM(start, goal)\n",
    "# PRM_test.rerun_PRM(optimize=True)\n",
    "# print(PRM_test.path)"
   ],
   "metadata": {
    "collapsed": false,
    "ExecuteTime": {
     "end_time": "2024-06-28T09:55:26.858756705Z",
     "start_time": "2024-06-28T09:55:26.555474530Z"
    }
   },
   "id": "aa3f6eef685e24f4"
  },
  {
   "cell_type": "code",
   "execution_count": 8,
   "outputs": [
    {
     "name": "stdout",
     "output_type": "stream",
     "text": [
      "596 ms ± 2.14 ms per loop (mean ± std. dev. of 7 runs, 1 loop each)\n"
     ]
    }
   ],
   "source": [
    "%timeit PRM_test.collision_check2( np.ones([1,23]), np.ones([1000000,3]) * 0.1)  # 1million point, 596 ms\n",
    "                                                                                # 100k,            63.4\n",
    "                                                                                #  10k,            13.3\n",
    "                                                                                # 1k,              9.6\n",
    "                                                                              #  100,  8.4ms"
   ],
   "metadata": {
    "collapsed": false,
    "ExecuteTime": {
     "end_time": "2024-06-28T09:56:33.666716409Z",
     "start_time": "2024-06-28T09:56:28.868804971Z"
    }
   },
   "id": "2cdabbbc84e42292"
  }
 ],
 "metadata": {
  "kernelspec": {
   "display_name": "Python 3",
   "language": "python",
   "name": "python3"
  },
  "language_info": {
   "codemirror_mode": {
    "name": "ipython",
    "version": 2
   },
   "file_extension": ".py",
   "mimetype": "text/x-python",
   "name": "python",
   "nbconvert_exporter": "python",
   "pygments_lexer": "ipython2",
   "version": "2.7.6"
  }
 },
 "nbformat": 4,
 "nbformat_minor": 5
}
